{
 "cells": [
  {
   "cell_type": "code",
   "execution_count": 314,
   "id": "looking-heater",
   "metadata": {},
   "outputs": [],
   "source": [
    "import pandas as pd\n",
    "import re\n",
    "\n",
    "df = pd.read_csv('attacks.csv', encoding='latin-1')"
   ]
  },
  {
   "cell_type": "code",
   "execution_count": 315,
   "id": "distinguished-carrier",
   "metadata": {},
   "outputs": [],
   "source": [
    "#Eliminacion de filas y columnas con missing values\n",
    "\n",
    "df.dropna(axis=1,thresh= len(df)*0.1,inplace=True) #Eliminar las columnas que no tengan minimo el 10% de valores no Nans\n",
    "\n",
    "df.dropna(axis=0,thresh= 10,inplace=True) #Eliminar las filas que no tengan 10 valores no Nans minimos"
   ]
  },
  {
   "cell_type": "code",
   "execution_count": 316,
   "id": "seasonal-former",
   "metadata": {
    "scrolled": true
   },
   "outputs": [
    {
     "data": {
      "text/plain": [
       "6278"
      ]
     },
     "execution_count": 316,
     "metadata": {},
     "output_type": "execute_result"
    }
   ],
   "source": [
    "#Comparamos las 3 columnas Case Number Case Number.1 Case Number.2\n",
    "Equals = df[['Case Number.1','Case Number.2']].eq(df['Case Number'], axis=0).all(axis=1)\n",
    "\n",
    "Equals.sum() #de 6302 filas 6278 son exactamente iguales entre las 3"
   ]
  },
  {
   "cell_type": "code",
   "execution_count": 317,
   "id": "straight-storage",
   "metadata": {},
   "outputs": [],
   "source": [
    "#En los 24 casos que son diferentes no hay diferencias significativas salvo en la fila 5488 que tiene un Nan\n",
    "df[~Equals][['Case Number','Case Number.1','Case Number.2']] \n",
    "\n",
    "#Se sobreescribe este Nan con el valor que tiene en las otras dos columnas\n",
    "df.loc[5488,'Case Number'] =  df.loc[5488,'Case Number.2']\n",
    "\n",
    "#Tras ver que las columnas 'Case Number.1','Case Number.2' se opta por borrarlas\n",
    "df.drop(columns=['Case Number.1','Case Number.2'],inplace=True)"
   ]
  },
  {
   "cell_type": "code",
   "execution_count": 318,
   "id": "addressed-prize",
   "metadata": {},
   "outputs": [],
   "source": [
    "#Comparamos las 'href formula' y 'href', 6242 son exactamente iguales de 6302\n",
    "(df['href formula'] == df['href']).sum()\n",
    "\n",
    "#Inspeccionamos que hay en las filas que no coinciden\n",
    "df[~(df['href formula'] == df['href'])][['href formula','href']]\n",
    "\n",
    "#Si estudiamos los que no son iguales podemos ver que:\n",
    "#que href tiene un formato de URL distinto al del usado en todo el resto de la columna, cunado el correcto es el de href formula\n",
    "#En la fila 671, 3244 y 3245 hay valores singulares que han de ser sustituidos por los correctos que si estan almacenados en href\n",
    "df.loc[671,'href formula'] = df.loc[671,'href']\n",
    "df.loc[3244,'href formula'] = df.loc[3244,'href']\n",
    "df.loc[3245,'href formula'] = df.loc[3245,'href']\n",
    "\n",
    "#Dado que en la columna 'href' no hay informacion relevante la eliminamos\n",
    "df.drop(columns=['href'],inplace=True) \n"
   ]
  },
  {
   "cell_type": "code",
   "execution_count": 319,
   "id": "broke-moses",
   "metadata": {},
   "outputs": [
    {
     "data": {
      "text/plain": [
       "M      5094\n",
       "F       637\n",
       "M         2\n",
       "N         2\n",
       "lli       1\n",
       ".         1\n",
       "Name: Sex, dtype: int64"
      ]
     },
     "execution_count": 319,
     "metadata": {},
     "output_type": "execute_result"
    }
   ],
   "source": [
    "df.rename(columns = {'Sex ':'Sex'},inplace = True) #Nombramos correctamente la columna Sex\n",
    "\n",
    "df['Sex'].unique() #Vemos que hay mas valores ademas de F, M y unknown\n",
    "df['Sex'].value_counts() \n",
    "#Criterio: en todos los casos que no se sepa el sexo exacto se usará unknown"
   ]
  },
  {
   "cell_type": "code",
   "execution_count": 320,
   "id": "liable-corpus",
   "metadata": {},
   "outputs": [
    {
     "data": {
      "text/plain": [
       "M          5098\n",
       "F           637\n",
       "unknown     567\n",
       "Name: Sex, dtype: int64"
      ]
     },
     "execution_count": 320,
     "metadata": {},
     "output_type": "execute_result"
    }
   ],
   "source": [
    "#Analizamos estos casos uno a uno.\n",
    "\n",
    "#Rellenamos los nans de unknowns\n",
    "df['Sex'].fillna('unknown',inplace=True)\n",
    "\n",
    "#Arreglamos aquellas Ms con espacio.\n",
    "df.loc[df[df['Sex']=='M '].index , ['Sex']] = 'M' #Arreglamos aquellas Ms con espacio.\n",
    "\n",
    "#Para las dos Ns se determina que Stephen Pettigew es M y los 18 ocupantes del barco son Nan\n",
    "df.loc[6131, 'Sex'] = 'M' \n",
    "df.loc[4938, 'Sex'] = 'unknown'\n",
    "\n",
    "#lli Se determina que es M al ver de nombre Brian Kang \n",
    "df.loc[df[df['Sex']=='lli'].index , ['Sex']] = 'M'\n",
    "#No tiene nombre asi que se decide que sera un Nan\n",
    "df.loc[df[df['Sex']=='.'].index , ['Sex']] = 'unknown'\n",
    "\n",
    "#Comprobamos que ahora solo hay 3 tipos de valor\n",
    "df['Sex'].value_counts()"
   ]
  },
  {
   "cell_type": "code",
   "execution_count": 321,
   "id": "clear-gardening",
   "metadata": {},
   "outputs": [],
   "source": [
    "#En la columna Name esta llena de valores male y female. Los usaremos para completar la columna Sex\n",
    "#Hay 550 filas con nombre male de los cuales unos 10 tienen sexo unknown\n",
    "df.loc[df[(df['Name']=='male') & (df['Sex']!='M')].index,'Sex'] = 'M' #Definimos su sexo como M\n",
    "#Hacemos lo mismo para las mujeres\n",
    "df.loc[df[(df['Name']=='female') & (df['Sex']!='F')].index,'Sex'] = 'F'\n",
    "df.loc[ df[(df['Name']=='female')|(df['Name']=='male')].index , 'Name'] = 'unknown'#Removemos de la columna Name todos los valores male and female"
   ]
  },
  {
   "cell_type": "code",
   "execution_count": 322,
   "id": "greek-center",
   "metadata": {},
   "outputs": [],
   "source": [
    "df[pd.isna(df['Year'])] #En la columna de años solo hay 2 valores nan que son facilmente sustituibles por las fechas de Date\n",
    "df.loc[187,'Year']  = 2017\n",
    "df.loc[6079,'Year'] = 1836\n",
    "df[df['Year']==0] #La columna de años contiene 130 0s\n",
    "#usamos regex para buscar fechas en la columna Date y completarlas en años\n",
    "#La columna Date tiene 5 valores antes de cristo. Se decide ponerlos a 0 y todo lo que no tenga valor\n",
    "df.loc[df[df['Year']==0].index,'Year']  = df[df['Year']==0][['Date','Year']].apply((lambda row: re.search(r'\\d{4}',row['Date']).group() if re.search(r'\\d{4}',row['Date'])  else 0), axis=1)"
   ]
  },
  {
   "cell_type": "code",
   "execution_count": 323,
   "id": "driving-premium",
   "metadata": {},
   "outputs": [
    {
     "data": {
      "text/html": [
       "<div>\n",
       "<style scoped>\n",
       "    .dataframe tbody tr th:only-of-type {\n",
       "        vertical-align: middle;\n",
       "    }\n",
       "\n",
       "    .dataframe tbody tr th {\n",
       "        vertical-align: top;\n",
       "    }\n",
       "\n",
       "    .dataframe thead th {\n",
       "        text-align: right;\n",
       "    }\n",
       "</style>\n",
       "<table border=\"1\" class=\"dataframe\">\n",
       "  <thead>\n",
       "    <tr style=\"text-align: right;\">\n",
       "      <th></th>\n",
       "      <th>Case Number</th>\n",
       "      <th>Date</th>\n",
       "      <th>Year</th>\n",
       "      <th>Type</th>\n",
       "      <th>Country</th>\n",
       "      <th>Area</th>\n",
       "      <th>Location</th>\n",
       "      <th>Activity</th>\n",
       "      <th>Name</th>\n",
       "      <th>Sex</th>\n",
       "      <th>Age</th>\n",
       "      <th>Injury</th>\n",
       "      <th>Fatal (Y/N)</th>\n",
       "      <th>Time</th>\n",
       "      <th>Species</th>\n",
       "      <th>Investigator or Source</th>\n",
       "      <th>pdf</th>\n",
       "      <th>href formula</th>\n",
       "      <th>original order</th>\n",
       "    </tr>\n",
       "  </thead>\n",
       "  <tbody>\n",
       "  </tbody>\n",
       "</table>\n",
       "</div>"
      ],
      "text/plain": [
       "Empty DataFrame\n",
       "Columns: [Case Number, Date, Year, Type, Country, Area, Location, Activity, Name, Sex, Age, Injury, Fatal (Y/N), Time, Species , Investigator or Source, pdf, href formula, original order]\n",
       "Index: []"
      ]
     },
     "execution_count": 323,
     "metadata": {},
     "output_type": "execute_result"
    }
   ],
   "source": [
    "df[df['original order'].duplicated(keep=False)] #Se observa que solo hay un valor duplicado en toda la columna original order\n",
    "#Vemos que hay dos 569 pero no hay ningun 571\n",
    "df.loc[5730:5734,:] \n",
    "df[df['original order']==571]\n",
    "#Asignamos a uno de los 569 571\n",
    "df.loc[5733,'original order'] = 571\n",
    "df[df['original order'].duplicated(keep=False)] #No hay duplicados en original order ya"
   ]
  },
  {
   "cell_type": "code",
   "execution_count": 344,
   "id": "signal-kitchen",
   "metadata": {},
   "outputs": [],
   "source": [
    "ind = list(df[df['Injury'].fillna('False').str.contains('Fatal')][['Injury','Fatal (Y/N)']].index) #Completamos aquellos Fatal que no lo sean salvo el 5813\n",
    "del ind[-2] #Borramos el indice que no queremos borrar.\n",
    "df.loc[indices,'Fatal (Y/N)'] = 'Y'"
   ]
  },
  {
   "cell_type": "code",
   "execution_count": 382,
   "id": "representative-wealth",
   "metadata": {},
   "outputs": [],
   "source": [
    "df.reindex(columns=['original order', 'Year', 'Type', 'Country', 'Area', 'Location',\n",
    "       'Activity', 'Name', 'Sex', 'Age', 'Injury', 'Fatal (Y/N)', \n",
    "       'Species ', 'Investigator or Source', 'Date' ,'Time','href formula', 'pdf','Case Number'\n",
    "       ]).fillna('unknown',inplace=True)\n",
    "\n",
    "df.sort_values('original order',ascending=True,inplace=True)\n",
    "#Se reorganizanlas columnas para tener las mas importantes al principio\n",
    "#original order se pone primera como identificador unico por fila\n",
    "#Las columnas case number, pdf, href formula, time y date contienen informacion demasiado confusa o muy mezclada por eso se ponen al final\n",
    "#Estas columnas no se eliminan por si el usuario final que quiera hacer un analisis pueda considerar que aun quede informacion relevante ahi\n",
    "#De lo contrario eliminarlas es un momento"
   ]
  },
  {
   "cell_type": "code",
   "execution_count": 384,
   "id": "scenic-excuse",
   "metadata": {},
   "outputs": [
    {
     "data": {
      "text/html": [
       "<div>\n",
       "<style scoped>\n",
       "    .dataframe tbody tr th:only-of-type {\n",
       "        vertical-align: middle;\n",
       "    }\n",
       "\n",
       "    .dataframe tbody tr th {\n",
       "        vertical-align: top;\n",
       "    }\n",
       "\n",
       "    .dataframe thead th {\n",
       "        text-align: right;\n",
       "    }\n",
       "</style>\n",
       "<table border=\"1\" class=\"dataframe\">\n",
       "  <thead>\n",
       "    <tr style=\"text-align: right;\">\n",
       "      <th></th>\n",
       "      <th>original order</th>\n",
       "      <th>Year</th>\n",
       "      <th>Type</th>\n",
       "      <th>Country</th>\n",
       "      <th>Area</th>\n",
       "      <th>Location</th>\n",
       "      <th>Activity</th>\n",
       "      <th>Name</th>\n",
       "      <th>Sex</th>\n",
       "      <th>Age</th>\n",
       "      <th>Injury</th>\n",
       "      <th>Fatal (Y/N)</th>\n",
       "      <th>Species</th>\n",
       "      <th>Investigator or Source</th>\n",
       "      <th>Date</th>\n",
       "      <th>Time</th>\n",
       "      <th>href formula</th>\n",
       "      <th>pdf</th>\n",
       "      <th>Case Number</th>\n",
       "    </tr>\n",
       "  </thead>\n",
       "  <tbody>\n",
       "    <tr>\n",
       "      <th>0</th>\n",
       "      <td>2.0</td>\n",
       "      <td>1845</td>\n",
       "      <td>Unprovoked</td>\n",
       "      <td>CEYLON (SRI LANKA)</td>\n",
       "      <td>Eastern Province</td>\n",
       "      <td>Below the English fort, Trincomalee</td>\n",
       "      <td>Swimming</td>\n",
       "      <td>unknown</td>\n",
       "      <td>M</td>\n",
       "      <td>15</td>\n",
       "      <td>FATAL. \"Shark bit him in half, carrying away t...</td>\n",
       "      <td>Y</td>\n",
       "      <td>NaN</td>\n",
       "      <td>S.W. Baker</td>\n",
       "      <td>1845-1853</td>\n",
       "      <td>NaN</td>\n",
       "      <td>http://sharkattackfile.net/spreadsheets/pdf_di...</td>\n",
       "      <td>ND-0001-Ceylon.pdf</td>\n",
       "      <td>ND.0001</td>\n",
       "    </tr>\n",
       "    <tr>\n",
       "      <th>1</th>\n",
       "      <td>3.0</td>\n",
       "      <td>1883</td>\n",
       "      <td>Unprovoked</td>\n",
       "      <td>PANAMA</td>\n",
       "      <td>NaN</td>\n",
       "      <td>Panama Bay 8ºN, 79ºW</td>\n",
       "      <td>NaN</td>\n",
       "      <td>Jules Patterson</td>\n",
       "      <td>M</td>\n",
       "      <td>NaN</td>\n",
       "      <td>FATAL</td>\n",
       "      <td>Y</td>\n",
       "      <td>NaN</td>\n",
       "      <td>The Sun, 10/20/1938</td>\n",
       "      <td>1883-1889</td>\n",
       "      <td>NaN</td>\n",
       "      <td>http://sharkattackfile.net/spreadsheets/pdf_di...</td>\n",
       "      <td>ND-0002-JulesPatterson.pdf</td>\n",
       "      <td>ND.0002</td>\n",
       "    </tr>\n",
       "    <tr>\n",
       "      <th>2</th>\n",
       "      <td>4.0</td>\n",
       "      <td>1900</td>\n",
       "      <td>Unprovoked</td>\n",
       "      <td>USA</td>\n",
       "      <td>North Carolina</td>\n",
       "      <td>Ocracoke Inlet</td>\n",
       "      <td>Swimming</td>\n",
       "      <td>Coast Guard personnel</td>\n",
       "      <td>M</td>\n",
       "      <td>NaN</td>\n",
       "      <td>FATAL</td>\n",
       "      <td>Y</td>\n",
       "      <td>NaN</td>\n",
       "      <td>F. Schwartz, p.23; C. Creswell, GSAF</td>\n",
       "      <td>1900-1905</td>\n",
       "      <td>NaN</td>\n",
       "      <td>http://sharkattackfile.net/spreadsheets/pdf_di...</td>\n",
       "      <td>ND-0003-Ocracoke_1900-1905.pdf</td>\n",
       "      <td>ND.0003</td>\n",
       "    </tr>\n",
       "    <tr>\n",
       "      <th>3</th>\n",
       "      <td>5.0</td>\n",
       "      <td>1903</td>\n",
       "      <td>Unprovoked</td>\n",
       "      <td>AUSTRALIA</td>\n",
       "      <td>Western Australia</td>\n",
       "      <td>NaN</td>\n",
       "      <td>Pearl diving</td>\n",
       "      <td>Ahmun</td>\n",
       "      <td>M</td>\n",
       "      <td>NaN</td>\n",
       "      <td>FATAL</td>\n",
       "      <td>Y</td>\n",
       "      <td>NaN</td>\n",
       "      <td>H. Taunton; N. Bartlett,  pp. 233-234</td>\n",
       "      <td>Before 1903</td>\n",
       "      <td>NaN</td>\n",
       "      <td>http://sharkattackfile.net/spreadsheets/pdf_di...</td>\n",
       "      <td>ND-0004-Ahmun.pdf</td>\n",
       "      <td>ND.0004</td>\n",
       "    </tr>\n",
       "    <tr>\n",
       "      <th>4</th>\n",
       "      <td>6.0</td>\n",
       "      <td>1903</td>\n",
       "      <td>Unprovoked</td>\n",
       "      <td>AUSTRALIA</td>\n",
       "      <td>Western Australia</td>\n",
       "      <td>Roebuck Bay</td>\n",
       "      <td>Diving</td>\n",
       "      <td>unknown</td>\n",
       "      <td>M</td>\n",
       "      <td>NaN</td>\n",
       "      <td>FATAL</td>\n",
       "      <td>Y</td>\n",
       "      <td>NaN</td>\n",
       "      <td>H. Taunton; N. Bartlett,  p. 234</td>\n",
       "      <td>Before 1903</td>\n",
       "      <td>NaN</td>\n",
       "      <td>http://sharkattackfile.net/spreadsheets/pdf_di...</td>\n",
       "      <td>ND-0005-RoebuckBay.pdf</td>\n",
       "      <td>ND.0005</td>\n",
       "    </tr>\n",
       "  </tbody>\n",
       "</table>\n",
       "</div>"
      ],
      "text/plain": [
       "   original order  Year        Type             Country               Area  \\\n",
       "0             2.0  1845  Unprovoked  CEYLON (SRI LANKA)   Eastern Province   \n",
       "1             3.0  1883  Unprovoked              PANAMA                NaN   \n",
       "2             4.0  1900  Unprovoked                 USA     North Carolina   \n",
       "3             5.0  1903  Unprovoked           AUSTRALIA  Western Australia   \n",
       "4             6.0  1903  Unprovoked           AUSTRALIA  Western Australia   \n",
       "\n",
       "                              Location      Activity                   Name  \\\n",
       "0  Below the English fort, Trincomalee      Swimming                unknown   \n",
       "1                 Panama Bay 8ºN, 79ºW           NaN        Jules Patterson   \n",
       "2                       Ocracoke Inlet      Swimming  Coast Guard personnel   \n",
       "3                                  NaN  Pearl diving                  Ahmun   \n",
       "4                          Roebuck Bay        Diving                unknown   \n",
       "\n",
       "  Sex  Age                                             Injury Fatal (Y/N)  \\\n",
       "0   M   15  FATAL. \"Shark bit him in half, carrying away t...           Y   \n",
       "1   M  NaN                                              FATAL           Y   \n",
       "2   M  NaN                                              FATAL           Y   \n",
       "3   M  NaN                                              FATAL           Y   \n",
       "4   M  NaN                                              FATAL           Y   \n",
       "\n",
       "  Species                  Investigator or Source         Date Time  \\\n",
       "0      NaN                             S.W. Baker    1845-1853  NaN   \n",
       "1      NaN                    The Sun, 10/20/1938    1883-1889  NaN   \n",
       "2      NaN   F. Schwartz, p.23; C. Creswell, GSAF    1900-1905  NaN   \n",
       "3      NaN  H. Taunton; N. Bartlett,  pp. 233-234  Before 1903  NaN   \n",
       "4      NaN       H. Taunton; N. Bartlett,  p. 234  Before 1903  NaN   \n",
       "\n",
       "                                        href formula  \\\n",
       "0  http://sharkattackfile.net/spreadsheets/pdf_di...   \n",
       "1  http://sharkattackfile.net/spreadsheets/pdf_di...   \n",
       "2  http://sharkattackfile.net/spreadsheets/pdf_di...   \n",
       "3  http://sharkattackfile.net/spreadsheets/pdf_di...   \n",
       "4  http://sharkattackfile.net/spreadsheets/pdf_di...   \n",
       "\n",
       "                              pdf Case Number  \n",
       "0              ND-0001-Ceylon.pdf     ND.0001  \n",
       "1      ND-0002-JulesPatterson.pdf     ND.0002  \n",
       "2  ND-0003-Ocracoke_1900-1905.pdf     ND.0003  \n",
       "3               ND-0004-Ahmun.pdf     ND.0004  \n",
       "4          ND-0005-RoebuckBay.pdf     ND.0005  "
      ]
     },
     "execution_count": 384,
     "metadata": {},
     "output_type": "execute_result"
    }
   ],
   "source": [
    "df.head()"
   ]
  },
  {
   "cell_type": "code",
   "execution_count": 385,
   "id": "civil-constitutional",
   "metadata": {},
   "outputs": [],
   "source": [
    "df.to_csv('Sharks.csv', sep=',', index=False)"
   ]
  }
 ],
 "metadata": {
  "kernelspec": {
   "display_name": "Python 3",
   "language": "python",
   "name": "python3"
  },
  "language_info": {
   "codemirror_mode": {
    "name": "ipython",
    "version": 3
   },
   "file_extension": ".py",
   "mimetype": "text/x-python",
   "name": "python",
   "nbconvert_exporter": "python",
   "pygments_lexer": "ipython3",
   "version": "3.8.5"
  },
  "toc": {
   "base_numbering": 1,
   "nav_menu": {},
   "number_sections": true,
   "sideBar": true,
   "skip_h1_title": false,
   "title_cell": "Table of Contents",
   "title_sidebar": "Contents",
   "toc_cell": false,
   "toc_position": {},
   "toc_section_display": true,
   "toc_window_display": false
  },
  "varInspector": {
   "cols": {
    "lenName": 16,
    "lenType": 16,
    "lenVar": 40
   },
   "kernels_config": {
    "python": {
     "delete_cmd_postfix": "",
     "delete_cmd_prefix": "del ",
     "library": "var_list.py",
     "varRefreshCmd": "print(var_dic_list())"
    },
    "r": {
     "delete_cmd_postfix": ") ",
     "delete_cmd_prefix": "rm(",
     "library": "var_list.r",
     "varRefreshCmd": "cat(var_dic_list()) "
    }
   },
   "types_to_exclude": [
    "module",
    "function",
    "builtin_function_or_method",
    "instance",
    "_Feature"
   ],
   "window_display": false
  }
 },
 "nbformat": 4,
 "nbformat_minor": 5
}
