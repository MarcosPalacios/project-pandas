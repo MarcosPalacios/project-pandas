{
 "cells": [
  {
   "cell_type": "code",
   "execution_count": 272,
   "id": "looking-heater",
   "metadata": {},
   "outputs": [],
   "source": [
    "import pandas as pd\n",
    "import re\n",
    "\n",
    "df = pd.read_csv('attacks.csv', encoding='latin-1')"
   ]
  },
  {
   "cell_type": "code",
   "execution_count": 273,
   "id": "distinguished-carrier",
   "metadata": {},
   "outputs": [],
   "source": [
    "#Eliminacion de filas y columnas con missing values\n",
    "\n",
    "df.dropna(axis=1,thresh= len(df)*0.1,inplace=True) #Eliminar las columnas que no tengan minimo el 10% de valores no Nans\n",
    "\n",
    "df.dropna(axis=0,thresh= 10,inplace=True) #Eliminar las filas que no tengan 10 valores no Nans minimos"
   ]
  },
  {
   "cell_type": "code",
   "execution_count": 274,
   "id": "seasonal-former",
   "metadata": {
    "scrolled": true
   },
   "outputs": [
    {
     "data": {
      "text/plain": [
       "6278"
      ]
     },
     "execution_count": 274,
     "metadata": {},
     "output_type": "execute_result"
    }
   ],
   "source": [
    "#Comparamos las 3 columnas Case Number Case Number.1 Case Number.2\n",
    "Equals = df[['Case Number.1','Case Number.2']].eq(df['Case Number'], axis=0).all(axis=1)\n",
    "\n",
    "Equals.sum() #de 6302 filas 6278 son exactamente iguales entre las 3"
   ]
  },
  {
   "cell_type": "code",
   "execution_count": 275,
   "id": "straight-storage",
   "metadata": {},
   "outputs": [],
   "source": [
    "#En los 24 casos que son diferentes no hay diferencias significativas salvo en la fila 5488 que tiene un Nan\n",
    "df[~Equals][['Case Number','Case Number.1','Case Number.2']] \n",
    "\n",
    "#Se sobreescribe este Nan con el valor que tiene en las otras dos columnas\n",
    "df.loc[5488,'Case Number'] =  df.loc[5488,'Case Number.2']\n",
    "\n",
    "#Tras ver que las columnas 'Case Number.1','Case Number.2' se opta por borrarlas\n",
    "df.drop(columns=['Case Number.1','Case Number.2'],inplace=True)"
   ]
  },
  {
   "cell_type": "code",
   "execution_count": 276,
   "id": "addressed-prize",
   "metadata": {},
   "outputs": [],
   "source": [
    "#Comparamos las 'href formula' y 'href', 6242 son exactamente iguales de 6302\n",
    "(df['href formula'] == df['href']).sum()\n",
    "\n",
    "#Inspeccionamos que hay en las filas que no coinciden\n",
    "df[~(df['href formula'] == df['href'])][['href formula','href']]\n",
    "\n",
    "#Si estudiamos los que no son iguales podemos ver que:\n",
    "#que href tiene un formato de URL distinto al del usado en todo el resto de la columna, cunado el correcto es el de href formula\n",
    "#En la fila 671, 3244 y 3245 hay valores singulares que han de ser sustituidos por los correctos que si estan almacenados en href\n",
    "df.loc[671,'href formula'] = df.loc[671,'href']\n",
    "df.loc[3244,'href formula'] = df.loc[3244,'href']\n",
    "df.loc[3245,'href formula'] = df.loc[3245,'href']\n",
    "\n",
    "#Dado que en la columna 'href' no hay informacion relevante la eliminamos\n",
    "df.drop(columns=['href'],inplace=True) \n"
   ]
  },
  {
   "cell_type": "code",
   "execution_count": 277,
   "id": "broke-moses",
   "metadata": {},
   "outputs": [
    {
     "data": {
      "text/plain": [
       "M      5094\n",
       "F       637\n",
       "N         2\n",
       "M         2\n",
       "lli       1\n",
       ".         1\n",
       "Name: Sex, dtype: int64"
      ]
     },
     "execution_count": 277,
     "metadata": {},
     "output_type": "execute_result"
    }
   ],
   "source": [
    "df.rename(columns = {'Sex ':'Sex'},inplace = True) #Nombramos correctamente la columna Sex\n",
    "\n",
    "df['Sex'].unique() #Vemos que hay mas valores ademas de F, M y unknown\n",
    "df['Sex'].value_counts() \n",
    "#Criterio: en todos los casos que no se sepa el sexo exacto se usará unknown"
   ]
  },
  {
   "cell_type": "code",
   "execution_count": 278,
   "id": "liable-corpus",
   "metadata": {},
   "outputs": [
    {
     "data": {
      "text/plain": [
       "M          5098\n",
       "F           637\n",
       "unknown     567\n",
       "Name: Sex, dtype: int64"
      ]
     },
     "execution_count": 278,
     "metadata": {},
     "output_type": "execute_result"
    }
   ],
   "source": [
    "#Analizamos estos casos uno a uno.\n",
    "\n",
    "#Rellenamos los nans de unknowns\n",
    "df['Sex'].fillna('unknown',inplace=True)\n",
    "\n",
    "#Arreglamos aquellas Ms con espacio.\n",
    "df.loc[df[df['Sex']=='M '].index , ['Sex']] = 'M' #Arreglamos aquellas Ms con espacio.\n",
    "\n",
    "#Para las dos Ns se determina que Stephen Pettigew es M y los 18 ocupantes del barco son Nan\n",
    "df.loc[6131, 'Sex'] = 'M' \n",
    "df.loc[4938, 'Sex'] = 'unknown'\n",
    "\n",
    "#lli Se determina que es M al ver de nombre Brian Kang \n",
    "df.loc[df[df['Sex']=='lli'].index , ['Sex']] = 'M'\n",
    "#No tiene nombre asi que se decide que sera un Nan\n",
    "df.loc[df[df['Sex']=='.'].index , ['Sex']] = 'unknown'\n",
    "\n",
    "#Comprobamos que ahora solo hay 3 tipos de valor\n",
    "df['Sex'].value_counts()"
   ]
  },
  {
   "cell_type": "code",
   "execution_count": 279,
   "id": "clear-gardening",
   "metadata": {},
   "outputs": [],
   "source": [
    "#En la columna Name esta llena de valores male y female. Los usaremos para completar la columna Sex\n",
    "#Hay 550 filas con nombre male de los cuales unos 10 tienen sexo unknown\n",
    "df.loc[df[(df['Name']=='male') & (df['Sex']!='M')].index,'Sex'] = 'M' #Definimos su sexo como M\n",
    "#Hacemos lo mismo para las mujeres\n",
    "df.loc[df[(df['Name']=='female') & (df['Sex']!='F')].index,'Sex'] = 'F'\n",
    "df.loc[ df[(df['Name']=='female')|(df['Name']=='male')].index , 'Name'] = 'unknown'#Removemos de la columna Name todos los valores male and female"
   ]
  },
  {
   "cell_type": "code",
   "execution_count": 280,
   "id": "greek-center",
   "metadata": {},
   "outputs": [],
   "source": [
    "df[pd.isna(df['Year'])] #En la columna de años solo hay 2 valores nan que son facilmente sustituibles por las fechas de Date\n",
    "df.loc[187,'Year']  = 2017\n",
    "df.loc[6079,'Year'] = 1836\n",
    "df[df['Year']==0] #La columna de años contiene 130 0s\n",
    "#usamos regex para buscar fechas en la columna Date y completarlas en años\n",
    "#La columna Date tiene 5 valores antes de cristo. Se decide ponerlos a 0 y todo lo que no tenga valor\n",
    "df.loc[df[df['Year']==0].index,'Year']  = df[df['Year']==0][['Date','Year']].apply((lambda row: re.search(r'\\d{4}',row['Date']).group() if re.search(r'\\d{4}',row['Date'])  else 0), axis=1)\n",
    "#Convertimos todos los años en float\n",
    "df['Year'] = df['Year'].astype(float)"
   ]
  },
  {
   "cell_type": "code",
   "execution_count": 281,
   "id": "driving-premium",
   "metadata": {},
   "outputs": [
    {
     "data": {
      "text/html": [
       "<div>\n",
       "<style scoped>\n",
       "    .dataframe tbody tr th:only-of-type {\n",
       "        vertical-align: middle;\n",
       "    }\n",
       "\n",
       "    .dataframe tbody tr th {\n",
       "        vertical-align: top;\n",
       "    }\n",
       "\n",
       "    .dataframe thead th {\n",
       "        text-align: right;\n",
       "    }\n",
       "</style>\n",
       "<table border=\"1\" class=\"dataframe\">\n",
       "  <thead>\n",
       "    <tr style=\"text-align: right;\">\n",
       "      <th></th>\n",
       "      <th>Case Number</th>\n",
       "      <th>Date</th>\n",
       "      <th>Year</th>\n",
       "      <th>Type</th>\n",
       "      <th>Country</th>\n",
       "      <th>Area</th>\n",
       "      <th>Location</th>\n",
       "      <th>Activity</th>\n",
       "      <th>Name</th>\n",
       "      <th>Sex</th>\n",
       "      <th>Age</th>\n",
       "      <th>Injury</th>\n",
       "      <th>Fatal (Y/N)</th>\n",
       "      <th>Time</th>\n",
       "      <th>Species</th>\n",
       "      <th>Investigator or Source</th>\n",
       "      <th>pdf</th>\n",
       "      <th>href formula</th>\n",
       "      <th>original order</th>\n",
       "    </tr>\n",
       "  </thead>\n",
       "  <tbody>\n",
       "  </tbody>\n",
       "</table>\n",
       "</div>"
      ],
      "text/plain": [
       "Empty DataFrame\n",
       "Columns: [Case Number, Date, Year, Type, Country, Area, Location, Activity, Name, Sex, Age, Injury, Fatal (Y/N), Time, Species , Investigator or Source, pdf, href formula, original order]\n",
       "Index: []"
      ]
     },
     "execution_count": 281,
     "metadata": {},
     "output_type": "execute_result"
    }
   ],
   "source": [
    "df[df['original order'].duplicated(keep=False)] #Se observa que solo hay un valor duplicado en toda la columna original order\n",
    "#Vemos que hay dos 569 pero no hay ningun 571\n",
    "df.loc[5730:5734,:] \n",
    "df[df['original order']==571]\n",
    "#Asignamos a uno de los 569 571\n",
    "df.loc[5733,'original order'] = 571\n",
    "df[df['original order'].duplicated(keep=False)] #No hay duplicados en original order ya"
   ]
  },
  {
   "cell_type": "code",
   "execution_count": 282,
   "id": "signal-kitchen",
   "metadata": {},
   "outputs": [],
   "source": [
    "ind = list(df[df['Injury'].fillna('False').str.contains('Fatal')][['Injury','Fatal (Y/N)']].index) #Completamos aquellos Fatal que no lo sean salvo el 5813\n",
    "del ind[-2] #Borramos el indice que no queremos borrar.\n",
    "df.loc[ind,'Fatal (Y/N)'] = 'Y'"
   ]
  },
  {
   "cell_type": "code",
   "execution_count": 283,
   "id": "statewide-passion",
   "metadata": {},
   "outputs": [],
   "source": [
    "#Limpiamos la columna de especies\n",
    "#Creamos una lista con las 50 especies de tiburones que mas salen\n",
    "species = list(df['Species '].str.findall('((?:\\w{3,} )?[s|S]hark)').str.join('').str.lower().value_counts().nlargest(50).index)\n",
    "species.remove('') #quitamos el string vacio\n",
    "species.remove('shark')\n",
    "species.append('shark') #Ponemos Shark alfinal de la lista para que al iterar no pise a los otros tipos de tiburones\n",
    "\n",
    "def speciesinrow(x,species): #Iteramos en todos los valores de la columna y vemos si tienen alguna de las especies de tiburon\n",
    "    if not pd.isna(x):\n",
    "        for specie in species:\n",
    "            if specie in x:\n",
    "                return specie\n",
    "    return 'Other'\n",
    "\n",
    "df[['Species ']]=df[['Species ']].apply( (lambda row: speciesinrow(row['Species '],species) ) ,axis=1)"
   ]
  },
  {
   "cell_type": "code",
   "execution_count": 284,
   "id": "available-library",
   "metadata": {},
   "outputs": [],
   "source": [
    "#Hacemos lo mismo para Activity que con Species\n",
    "\n",
    "activities = list(df['Activity'].value_counts().head(50).index)\n",
    "\n",
    "def activitiesinrow(x,activities): #Iteramos en todos los valores de la columna y vemos si tienen alguna de las especies de tiburon\n",
    "    if not pd.isna(x):\n",
    "        for activity in activities:\n",
    "            if activity in x:\n",
    "                return activity\n",
    "    return 'Other'\n",
    "\n",
    "df[['Activity']] = df[['Activity']].apply( (lambda row: activitiesinrow(row['Activity'],activities) ) ,axis=1)"
   ]
  },
  {
   "cell_type": "code",
   "execution_count": 285,
   "id": "bound-purpose",
   "metadata": {},
   "outputs": [],
   "source": [
    "#Convertimos y extraemos los strings de Age a numero \n",
    "df[['Age']]=df[['Age']].apply( (lambda row: float(re.search('(?<!\\S)\\d{2}(?!\\S)', row['Age']).group()) if (not pd.isna(row['Age']) and re.match('(?<!\\S)\\d{2}(?!\\S)' , row['Age'])) else np.nan),axis=1)"
   ]
  },
  {
   "cell_type": "code",
   "execution_count": 298,
   "id": "alive-spare",
   "metadata": {},
   "outputs": [],
   "source": [
    "df.value_counts('Fatal (Y/N)')\n",
    "#Arreglamos los valores de 'Fatal (Y/N)' para que solo haya N, Y y unknown\n",
    "df.loc[df[df['Fatal (Y/N)']== ' N'].index ,'Fatal (Y/N)'] ='N'\n",
    "df.loc[df[df['Fatal (Y/N)']== '2017'].index ,'Fatal (Y/N)'] ='N'\n",
    "df.loc[df[df['Fatal (Y/N)']== 'M'].index ,'Fatal (Y/N)'] ='N'\n",
    "df.loc[df[df['Fatal (Y/N)']== 'N '].index ,'Fatal (Y/N)'] ='N'\n",
    "df.loc[df[df['Fatal (Y/N)']== 'y'].index ,'Fatal (Y/N)'] ='Y'"
   ]
  },
  {
   "cell_type": "code",
   "execution_count": 299,
   "id": "billion-outreach",
   "metadata": {},
   "outputs": [
    {
     "name": "stderr",
     "output_type": "stream",
     "text": [
      "C:\\ProgramData\\Anaconda3\\lib\\site-packages\\pandas\\core\\frame.py:4459: SettingWithCopyWarning: \n",
      "A value is trying to be set on a copy of a slice from a DataFrame\n",
      "\n",
      "See the caveats in the documentation: https://pandas.pydata.org/pandas-docs/stable/user_guide/indexing.html#returning-a-view-versus-a-copy\n",
      "  return super().fillna(\n"
     ]
    }
   ],
   "source": [
    "df = df.reindex(columns=['original order', 'Year', 'Type', 'Country', 'Area', 'Location',\n",
    "       'Activity', 'Name', 'Sex', 'Age', 'Injury', 'Fatal (Y/N)', \n",
    "       'Species ', 'Investigator or Source', 'Date' ,'Time','href formula', 'pdf','Case Number'\n",
    "       ])\n",
    "#Solo dejamos nans enlas columnas que no contienen numeros\n",
    "columnas = ['original order', 'Type', 'Country', 'Area', 'Activity', 'Sex', 'Fatal (Y/N)', 'Species ', 'Investigator or Source']\n",
    "df[columnas].fillna('unknown',inplace=True)\n",
    "df.sort_values('original order',ascending=True,inplace=True)\n",
    "df.reset_index(drop=True,inplace=True)\n",
    "#Se reorganizanlas columnas para tener las mas importantes al principio\n",
    "#original order se pone primera como identificador unico por fila\n",
    "\n",
    "#Las columnas case number, pdf, href formula, time y date contienen informacion demasiado confusa o muy mezclada por eso se borran.\n",
    "#Borramos todas las columnas que no nos interesan para nuestro analisis\n",
    "df.drop(columns=[ 'Location' ,'Time', 'Name','Injury' ,'href formula','Case Number','pdf','Date'],inplace=True)"
   ]
  },
  {
   "cell_type": "code",
   "execution_count": 300,
   "id": "exciting-option",
   "metadata": {},
   "outputs": [],
   "source": [
    "df.to_csv('Sharks.csv', sep=',', index=False)"
   ]
  },
  {
   "cell_type": "code",
   "execution_count": 302,
   "id": "billion-queen",
   "metadata": {},
   "outputs": [
    {
     "data": {
      "text/html": [
       "<div>\n",
       "<style scoped>\n",
       "    .dataframe tbody tr th:only-of-type {\n",
       "        vertical-align: middle;\n",
       "    }\n",
       "\n",
       "    .dataframe tbody tr th {\n",
       "        vertical-align: top;\n",
       "    }\n",
       "\n",
       "    .dataframe thead th {\n",
       "        text-align: right;\n",
       "    }\n",
       "</style>\n",
       "<table border=\"1\" class=\"dataframe\">\n",
       "  <thead>\n",
       "    <tr style=\"text-align: right;\">\n",
       "      <th></th>\n",
       "      <th>original order</th>\n",
       "      <th>Year</th>\n",
       "      <th>Type</th>\n",
       "      <th>Country</th>\n",
       "      <th>Area</th>\n",
       "      <th>Activity</th>\n",
       "      <th>Sex</th>\n",
       "      <th>Age</th>\n",
       "      <th>Fatal (Y/N)</th>\n",
       "      <th>Species</th>\n",
       "      <th>Investigator or Source</th>\n",
       "    </tr>\n",
       "  </thead>\n",
       "  <tbody>\n",
       "    <tr>\n",
       "      <th>0</th>\n",
       "      <td>2.0</td>\n",
       "      <td>1845.0</td>\n",
       "      <td>Unprovoked</td>\n",
       "      <td>CEYLON (SRI LANKA)</td>\n",
       "      <td>Eastern Province</td>\n",
       "      <td>Swimming</td>\n",
       "      <td>M</td>\n",
       "      <td>15.0</td>\n",
       "      <td>Y</td>\n",
       "      <td>Other</td>\n",
       "      <td>S.W. Baker</td>\n",
       "    </tr>\n",
       "    <tr>\n",
       "      <th>1</th>\n",
       "      <td>3.0</td>\n",
       "      <td>1883.0</td>\n",
       "      <td>Unprovoked</td>\n",
       "      <td>PANAMA</td>\n",
       "      <td>NaN</td>\n",
       "      <td>Other</td>\n",
       "      <td>M</td>\n",
       "      <td>NaN</td>\n",
       "      <td>Y</td>\n",
       "      <td>Other</td>\n",
       "      <td>The Sun, 10/20/1938</td>\n",
       "    </tr>\n",
       "    <tr>\n",
       "      <th>2</th>\n",
       "      <td>4.0</td>\n",
       "      <td>1900.0</td>\n",
       "      <td>Unprovoked</td>\n",
       "      <td>USA</td>\n",
       "      <td>North Carolina</td>\n",
       "      <td>Swimming</td>\n",
       "      <td>M</td>\n",
       "      <td>NaN</td>\n",
       "      <td>Y</td>\n",
       "      <td>Other</td>\n",
       "      <td>F. Schwartz, p.23; C. Creswell, GSAF</td>\n",
       "    </tr>\n",
       "    <tr>\n",
       "      <th>3</th>\n",
       "      <td>5.0</td>\n",
       "      <td>1903.0</td>\n",
       "      <td>Unprovoked</td>\n",
       "      <td>AUSTRALIA</td>\n",
       "      <td>Western Australia</td>\n",
       "      <td>Pearl diving</td>\n",
       "      <td>M</td>\n",
       "      <td>NaN</td>\n",
       "      <td>Y</td>\n",
       "      <td>Other</td>\n",
       "      <td>H. Taunton; N. Bartlett,  pp. 233-234</td>\n",
       "    </tr>\n",
       "    <tr>\n",
       "      <th>4</th>\n",
       "      <td>6.0</td>\n",
       "      <td>1903.0</td>\n",
       "      <td>Unprovoked</td>\n",
       "      <td>AUSTRALIA</td>\n",
       "      <td>Western Australia</td>\n",
       "      <td>Diving</td>\n",
       "      <td>M</td>\n",
       "      <td>NaN</td>\n",
       "      <td>Y</td>\n",
       "      <td>Other</td>\n",
       "      <td>H. Taunton; N. Bartlett,  p. 234</td>\n",
       "    </tr>\n",
       "  </tbody>\n",
       "</table>\n",
       "</div>"
      ],
      "text/plain": [
       "   original order    Year        Type             Country               Area  \\\n",
       "0             2.0  1845.0  Unprovoked  CEYLON (SRI LANKA)   Eastern Province   \n",
       "1             3.0  1883.0  Unprovoked              PANAMA                NaN   \n",
       "2             4.0  1900.0  Unprovoked                 USA     North Carolina   \n",
       "3             5.0  1903.0  Unprovoked           AUSTRALIA  Western Australia   \n",
       "4             6.0  1903.0  Unprovoked           AUSTRALIA  Western Australia   \n",
       "\n",
       "       Activity Sex   Age Fatal (Y/N) Species   \\\n",
       "0      Swimming   M  15.0           Y    Other   \n",
       "1         Other   M   NaN           Y    Other   \n",
       "2      Swimming   M   NaN           Y    Other   \n",
       "3  Pearl diving   M   NaN           Y    Other   \n",
       "4        Diving   M   NaN           Y    Other   \n",
       "\n",
       "                  Investigator or Source  \n",
       "0                             S.W. Baker  \n",
       "1                    The Sun, 10/20/1938  \n",
       "2   F. Schwartz, p.23; C. Creswell, GSAF  \n",
       "3  H. Taunton; N. Bartlett,  pp. 233-234  \n",
       "4       H. Taunton; N. Bartlett,  p. 234  "
      ]
     },
     "execution_count": 302,
     "metadata": {},
     "output_type": "execute_result"
    }
   ],
   "source": [
    "df.head(5)"
   ]
  },
  {
   "cell_type": "code",
   "execution_count": 306,
   "id": "equipped-cabin",
   "metadata": {
    "scrolled": true
   },
   "outputs": [
    {
     "data": {
      "text/plain": [
       "Sex\n",
       "F          28.487864\n",
       "M          28.004582\n",
       "unknown    25.151515\n",
       "Name: Age, dtype: float64"
      ]
     },
     "execution_count": 306,
     "metadata": {},
     "output_type": "execute_result"
    }
   ],
   "source": [
    "#Media de edades por sexo\n",
    "df.groupby(['Sex']).mean()['Age'] "
   ]
  },
  {
   "cell_type": "code",
   "execution_count": 308,
   "id": "parliamentary-recruitment",
   "metadata": {},
   "outputs": [
    {
     "data": {
      "text/plain": [
       "Sex\n",
       "F          32.672131\n",
       "M          27.211946\n",
       "unknown    26.714286\n",
       "Name: Age, dtype: float64"
      ]
     },
     "execution_count": 308,
     "metadata": {},
     "output_type": "execute_result"
    }
   ],
   "source": [
    "#Media de edades de las muertes por sexo\n",
    "df.groupby(['Fatal (Y/N)','Sex']).mean().loc['Y','Age']"
   ]
  },
  {
   "cell_type": "code",
   "execution_count": 314,
   "id": "advised-success",
   "metadata": {
    "scrolled": true
   },
   "outputs": [
    {
     "data": {
      "text/plain": [
       "<AxesSubplot:>"
      ]
     },
     "execution_count": 314,
     "metadata": {},
     "output_type": "execute_result"
    },
    {
     "data": {
      "image/png": "[encoded data removed]",
      "text/plain": [
       "<Figure size 432x288 with 1 Axes>"
      ]
     },
     "metadata": {
      "needs_background": "light"
     },
     "output_type": "display_data"
    }
   ],
   "source": [
    "#Top 5 especies de tiburon mas comunes\n",
    "df['Species '].value_counts().head(6).plot(kind='bar')"
   ]
  },
  {
   "cell_type": "code",
   "execution_count": 340,
   "id": "chemical-scanning",
   "metadata": {},
   "outputs": [
    {
     "data": {
      "text/html": [
       "<div>\n",
       "<style scoped>\n",
       "    .dataframe tbody tr th:only-of-type {\n",
       "        vertical-align: middle;\n",
       "    }\n",
       "\n",
       "    .dataframe tbody tr th {\n",
       "        vertical-align: top;\n",
       "    }\n",
       "\n",
       "    .dataframe thead th {\n",
       "        text-align: right;\n",
       "    }\n",
       "</style>\n",
       "<table border=\"1\" class=\"dataframe\">\n",
       "  <thead>\n",
       "    <tr style=\"text-align: right;\">\n",
       "      <th></th>\n",
       "      <th>Year</th>\n",
       "      <th>Fatal (Y/N)</th>\n",
       "    </tr>\n",
       "  </thead>\n",
       "  <tbody>\n",
       "    <tr>\n",
       "      <th>161</th>\n",
       "      <td>1959.0</td>\n",
       "      <td>24</td>\n",
       "    </tr>\n",
       "    <tr>\n",
       "      <th>160</th>\n",
       "      <td>1958.0</td>\n",
       "      <td>21</td>\n",
       "    </tr>\n",
       "    <tr>\n",
       "      <th>158</th>\n",
       "      <td>1956.0</td>\n",
       "      <td>21</td>\n",
       "    </tr>\n",
       "    <tr>\n",
       "      <th>201</th>\n",
       "      <td>2000.0</td>\n",
       "      <td>18</td>\n",
       "    </tr>\n",
       "    <tr>\n",
       "      <th>164</th>\n",
       "      <td>1962.0</td>\n",
       "      <td>17</td>\n",
       "    </tr>\n",
       "    <tr>\n",
       "      <th>146</th>\n",
       "      <td>1944.0</td>\n",
       "      <td>17</td>\n",
       "    </tr>\n",
       "    <tr>\n",
       "      <th>144</th>\n",
       "      <td>1942.0</td>\n",
       "      <td>16</td>\n",
       "    </tr>\n",
       "    <tr>\n",
       "      <th>166</th>\n",
       "      <td>1964.0</td>\n",
       "      <td>16</td>\n",
       "    </tr>\n",
       "    <tr>\n",
       "      <th>165</th>\n",
       "      <td>1963.0</td>\n",
       "      <td>16</td>\n",
       "    </tr>\n",
       "    <tr>\n",
       "      <th>194</th>\n",
       "      <td>1993.0</td>\n",
       "      <td>16</td>\n",
       "    </tr>\n",
       "  </tbody>\n",
       "</table>\n",
       "</div>"
      ],
      "text/plain": [
       "       Year  Fatal (Y/N)\n",
       "161  1959.0           24\n",
       "160  1958.0           21\n",
       "158  1956.0           21\n",
       "201  2000.0           18\n",
       "164  1962.0           17\n",
       "146  1944.0           17\n",
       "144  1942.0           16\n",
       "166  1964.0           16\n",
       "165  1963.0           16\n",
       "194  1993.0           16"
      ]
     },
     "execution_count": 340,
     "metadata": {},
     "output_type": "execute_result"
    }
   ],
   "source": [
    "#Top 10 años con mas ataques Fatales\n",
    "df[df['Fatal (Y/N)']=='Y'].groupby(['Year'],as_index=False).count()[['Year','Fatal (Y/N)']].sort_values('Fatal (Y/N)',ascending=False).head(10)"
   ]
  },
  {
   "cell_type": "code",
   "execution_count": 342,
   "id": "russian-training",
   "metadata": {},
   "outputs": [
    {
     "data": {
      "text/html": [
       "<div>\n",
       "<style scoped>\n",
       "    .dataframe tbody tr th:only-of-type {\n",
       "        vertical-align: middle;\n",
       "    }\n",
       "\n",
       "    .dataframe tbody tr th {\n",
       "        vertical-align: top;\n",
       "    }\n",
       "\n",
       "    .dataframe thead th {\n",
       "        text-align: right;\n",
       "    }\n",
       "</style>\n",
       "<table border=\"1\" class=\"dataframe\">\n",
       "  <thead>\n",
       "    <tr style=\"text-align: right;\">\n",
       "      <th></th>\n",
       "      <th>Country</th>\n",
       "      <th>Fatal (Y/N)</th>\n",
       "    </tr>\n",
       "  </thead>\n",
       "  <tbody>\n",
       "    <tr>\n",
       "      <th>9</th>\n",
       "      <td>AUSTRALIA</td>\n",
       "      <td>287</td>\n",
       "    </tr>\n",
       "    <tr>\n",
       "      <th>140</th>\n",
       "      <td>USA</td>\n",
       "      <td>188</td>\n",
       "    </tr>\n",
       "    <tr>\n",
       "      <th>119</th>\n",
       "      <td>SOUTH AFRICA</td>\n",
       "      <td>107</td>\n",
       "    </tr>\n",
       "    <tr>\n",
       "      <th>100</th>\n",
       "      <td>PAPUA NEW GUINEA</td>\n",
       "      <td>56</td>\n",
       "    </tr>\n",
       "    <tr>\n",
       "      <th>84</th>\n",
       "      <td>MEXICO</td>\n",
       "      <td>43</td>\n",
       "    </tr>\n",
       "    <tr>\n",
       "      <th>17</th>\n",
       "      <td>BRAZIL</td>\n",
       "      <td>38</td>\n",
       "    </tr>\n",
       "    <tr>\n",
       "      <th>104</th>\n",
       "      <td>PHILIPPINES</td>\n",
       "      <td>35</td>\n",
       "    </tr>\n",
       "    <tr>\n",
       "      <th>107</th>\n",
       "      <td>REUNION</td>\n",
       "      <td>29</td>\n",
       "    </tr>\n",
       "    <tr>\n",
       "      <th>93</th>\n",
       "      <td>NEW ZEALAND</td>\n",
       "      <td>24</td>\n",
       "    </tr>\n",
       "    <tr>\n",
       "      <th>33</th>\n",
       "      <td>CUBA</td>\n",
       "      <td>24</td>\n",
       "    </tr>\n",
       "  </tbody>\n",
       "</table>\n",
       "</div>"
      ],
      "text/plain": [
       "              Country  Fatal (Y/N)\n",
       "9           AUSTRALIA          287\n",
       "140               USA          188\n",
       "119      SOUTH AFRICA          107\n",
       "100  PAPUA NEW GUINEA           56\n",
       "84             MEXICO           43\n",
       "17             BRAZIL           38\n",
       "104       PHILIPPINES           35\n",
       "107           REUNION           29\n",
       "93        NEW ZEALAND           24\n",
       "33               CUBA           24"
      ]
     },
     "execution_count": 342,
     "metadata": {},
     "output_type": "execute_result"
    }
   ],
   "source": [
    "#TOP 10 paises por muertes\n",
    "df[df['Fatal (Y/N)']=='Y'].groupby(['Country'],as_index=False).count()[['Country','Fatal (Y/N)']].sort_values('Fatal (Y/N)',ascending=False).head(10)"
   ]
  }
 ],
 "metadata": {
  "kernelspec": {
   "display_name": "Python 3",
   "language": "python",
   "name": "python3"
  },
  "language_info": {
   "codemirror_mode": {
    "name": "ipython",
    "version": 3
   },
   "file_extension": ".py",
   "mimetype": "text/x-python",
   "name": "python",
   "nbconvert_exporter": "python",
   "pygments_lexer": "ipython3",
   "version": "3.8.5"
  },
  "toc": {
   "base_numbering": 1,
   "nav_menu": {},
   "number_sections": true,
   "sideBar": true,
   "skip_h1_title": false,
   "title_cell": "Table of Contents",
   "title_sidebar": "Contents",
   "toc_cell": false,
   "toc_position": {},
   "toc_section_display": true,
   "toc_window_display": false
  },
  "varInspector": {
   "cols": {
    "lenName": 16,
    "lenType": 16,
    "lenVar": 40
   },
   "kernels_config": {
    "python": {
     "delete_cmd_postfix": "",
     "delete_cmd_prefix": "del ",
     "library": "var_list.py",
     "varRefreshCmd": "print(var_dic_list())"
    },
    "r": {
     "delete_cmd_postfix": ") ",
     "delete_cmd_prefix": "rm(",
     "library": "var_list.r",
     "varRefreshCmd": "cat(var_dic_list()) "
    }
   },
   "types_to_exclude": [
    "module",
    "function",
    "builtin_function_or_method",
    "instance",
    "_Feature"
   ],
   "window_display": false
  }
 },
 "nbformat": 4,
 "nbformat_minor": 5
}
